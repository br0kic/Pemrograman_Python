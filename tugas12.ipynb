{
  "nbformat": 4,
  "nbformat_minor": 0,
  "metadata": {
    "colab": {
      "name": "Copy of Welcome To Colaboratory",
      "provenance": [],
      "collapsed_sections": [],
      "toc_visible": true,
      "include_colab_link": true
    },
    "kernelspec": {
      "display_name": "Python 3",
      "name": "python3"
    }
  },
  "cells": [
    {
      "cell_type": "markdown",
      "metadata": {
        "id": "view-in-github",
        "colab_type": "text"
      },
      "source": [
        "<a href=\"https://colab.research.google.com/github/br0kic/Pemrograman_Python/blob/main/tugas12.ipynb\" target=\"_parent\"><img src=\"https://colab.research.google.com/assets/colab-badge.svg\" alt=\"Open In Colab\"/></a>"
      ]
    },
    {
      "cell_type": "code",
      "metadata": {
        "id": "4xAP-75R9Vzp"
      },
      "source": [
        "import numpy as np"
      ],
      "execution_count": null,
      "outputs": []
    },
    {
      "cell_type": "code",
      "metadata": {
        "id": "1xOXIzgG-dOc"
      },
      "source": [
        "def lp(d,fc,hr,ht,a):\r\n",
        "\r\n",
        "    #Nilai C1 & C2\r\n",
        "  if fc in range (400,1500):\r\n",
        "    c1 = 69.55\r\n",
        "    c2 = 26.16\r\n",
        "  elif fc in range (1501,2000):\r\n",
        "    c1 = 46.3\r\n",
        "    c2 = 33.9\r\n",
        "\r\n",
        "  #a\r\n",
        "  # 1 = urban\r\n",
        "  # 2 = suburban\r\n",
        "  # 3 = open\r\n",
        "  if a == 1:\r\n",
        "    cm = 0\r\n",
        "  elif a == 2:\r\n",
        "    cm = (-2*(np.log10(fc/28))**2) - 5.4\r\n",
        "  elif a == 3:\r\n",
        "    cm = (-4.78*(np.log10(fc))**2) + (18.33*np.log10(fc)) - 40.94\r\n",
        "\r\n",
        "  #nilai ahr\r\n",
        "  ahr = ((1.1*np.log10(fc)-0.7)*hr)-((1.56*np.log10(fc))-0.8) \r\n",
        "  \r\n",
        "  #nilai LP\r\n",
        "  Lp = c1 + (c2*np.log10(fc)) - (13.83*np.log10(ht)) - ahr + ((44.9-(6.55*np.log10(ht)))*np.log10(d)) + cm\r\n",
        "\r\n",
        "  return Lp"
      ],
      "execution_count": null,
      "outputs": []
    },
    {
      "cell_type": "code",
      "metadata": {
        "id": "tCZL_9yNCc6A",
        "colab": {
          "base_uri": "https://localhost:8080/"
        },
        "outputId": "c6dcc278-e701-4fd0-dd08-8052fdee3fb7"
      },
      "source": [
        "lpls = lp(1,550,20,50,3)\r\n",
        "print(\"Hasil adalah\",lpls, \"dB\")"
      ],
      "execution_count": null,
      "outputs": [
        {
          "output_type": "stream",
          "text": [
            "Hasil adalah 48.32313845990263 dB\n"
          ],
          "name": "stdout"
        }
      ]
    }
  ]
}
