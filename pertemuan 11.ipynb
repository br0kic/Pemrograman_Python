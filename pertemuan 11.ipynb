{
  "nbformat": 4,
  "nbformat_minor": 0,
  "metadata": {
    "colab": {
      "name": "Welcome To Colaboratory",
      "provenance": [],
      "collapsed_sections": [],
      "toc_visible": true,
      "include_colab_link": true
    },
    "kernelspec": {
      "display_name": "Python 3",
      "name": "python3"
    }
  },
  "cells": [
    {
      "cell_type": "markdown",
      "metadata": {
        "id": "view-in-github",
        "colab_type": "text"
      },
      "source": [
        "<a href=\"https://colab.research.google.com/github/br0kic/Pemrograman_Python/blob/main/pertemuan%2011.ipynb\" target=\"_parent\"><img src=\"https://colab.research.google.com/assets/colab-badge.svg\" alt=\"Open In Colab\"/></a>"
      ]
    },
    {
      "cell_type": "code",
      "metadata": {
        "id": "ZKGn3m6YIX_l",
        "outputId": "21d7c5a8-40bc-465a-9852-735d4898a6f1",
        "colab": {
          "base_uri": "https://localhost:8080/"
        }
      },
      "source": [
        "from google.colab import drive\n",
        "drive.mount('/content/drive')"
      ],
      "execution_count": 83,
      "outputs": [
        {
          "output_type": "stream",
          "text": [
            "Drive already mounted at /content/drive; to attempt to forcibly remount, call drive.mount(\"/content/drive\", force_remount=True).\n"
          ],
          "name": "stdout"
        }
      ]
    },
    {
      "cell_type": "code",
      "metadata": {
        "id": "QfbfY3VZIcfv",
        "outputId": "c876fc38-2660-4e52-a39e-2342604dd7ee",
        "colab": {
          "base_uri": "https://localhost:8080/"
        }
      },
      "source": [
        "cd /content/drive/MyDrive"
      ],
      "execution_count": 85,
      "outputs": [
        {
          "output_type": "stream",
          "text": [
            "/content/drive/MyDrive\n"
          ],
          "name": "stdout"
        }
      ]
    },
    {
      "cell_type": "code",
      "metadata": {
        "id": "YSMQ1wBbIhH3",
        "outputId": "ac477d5b-de3b-4ad4-bb31-0b3bf34d1ed7",
        "colab": {
          "base_uri": "https://localhost:8080/"
        }
      },
      "source": [
        "ls"
      ],
      "execution_count": 86,
      "outputs": [
        {
          "output_type": "stream",
          "text": [
            "'1 Computer Architecture, Microprocessor and Microcontroller.pptx'\n",
            " \u001b[0m\u001b[01;36m3scene\u001b[0m@\n",
            " best_weight_scene_mobileNet.h5\n",
            " \u001b[01;34mClassroom\u001b[0m/\n",
            " coast_art294.jpg\n",
            "'Getting started.pdf'\n",
            " \u001b[01;36mGMB_11\u001b[0m@\n",
            " Maraden_quizz.pdf\n",
            " \u001b[01;34mnnmodel_scene\u001b[0m/\n",
            " nomer1.pdf\n",
            " nomer2.pdf\n",
            " nomer3.pdf\n",
            " quiz_jarkomdat_maraden.pdf\n",
            "\u001b[01;34m'Untitled folder'\u001b[0m/\n"
          ],
          "name": "stdout"
        }
      ]
    },
    {
      "cell_type": "code",
      "metadata": {
        "id": "iHxS3yDfIjC5"
      },
      "source": [
        "# import the necessary packages\r\n",
        "from keras.models import Sequential\r\n",
        "from keras.layers.core import Activation\r\n",
        "from keras.layers.core import Flatten\r\n",
        "from keras.layers.core import Dense\r\n",
        "from keras.optimizers import Adam\r\n",
        "from sklearn.preprocessing import LabelBinarizer\r\n",
        "from sklearn.model_selection import train_test_split\r\n",
        "from sklearn.metrics import classification_report\r\n",
        "from PIL import Image\r\n",
        "from imutils import paths\r\n",
        "import numpy as np\r\n",
        "import os"
      ],
      "execution_count": 91,
      "outputs": []
    },
    {
      "cell_type": "code",
      "metadata": {
        "id": "mRXGu-lWIkzl",
        "outputId": "b6377401-6159-448f-b16f-b1ccf4aca075",
        "colab": {
          "base_uri": "https://localhost:8080/"
        }
      },
      "source": [
        "\r\n",
        "# grab all image paths in the input dataset directory, then initialize\r\n",
        "# our list of images and corresponding class labels\r\n",
        "print(\"[INFO] loading images...\")\r\n",
        "imagePaths = paths.list_images(\"3scene\")\r\n",
        "data = []\r\n",
        "labels = []"
      ],
      "execution_count": 89,
      "outputs": [
        {
          "output_type": "stream",
          "text": [
            "[INFO] loading images...\n"
          ],
          "name": "stdout"
        }
      ]
    },
    {
      "cell_type": "code",
      "metadata": {
        "id": "8Mhs4gINIpyC"
      },
      "source": [
        "# loop over our input images\r\n",
        "for imagePath in imagePaths:\r\n",
        "\t# load the input image from disk, resize it to 64x64 pixels, scale\r\n",
        "\t# the pixel intensities to the range [0, 1], and then update our\r\n",
        "\t# images list\r\n",
        "\timage = Image.open(imagePath)\r\n",
        "  #preprocessing\r\n",
        "\timage = np.array(image.resize((64, 64))) / 255.0 #normalisasi\r\n",
        "\tdata.append(image)\r\n",
        "\r\n",
        "\t# extract the class label from the file path and update the\r\n",
        "\t# labels list\r\n",
        "\tlabel = imagePath.split(os.path.sep)[-2]\r\n",
        "\tlabels.append(label)"
      ],
      "execution_count": 90,
      "outputs": []
    },
    {
      "cell_type": "code",
      "metadata": {
        "id": "qf7NLqu5ItuU"
      },
      "source": [
        "print(labels)"
      ],
      "execution_count": null,
      "outputs": []
    },
    {
      "cell_type": "code",
      "metadata": {
        "id": "YQKRLRihIz1N"
      },
      "source": [
        "# encode the labels, converting them from strings to integers\r\n",
        "lb = LabelBinarizer()\r\n",
        "labels = lb.fit_transform(labels)"
      ],
      "execution_count": null,
      "outputs": []
    },
    {
      "cell_type": "code",
      "metadata": {
        "id": "1iM-yn2VI1zb"
      },
      "source": [
        "print(labels)"
      ],
      "execution_count": null,
      "outputs": []
    },
    {
      "cell_type": "code",
      "metadata": {
        "id": "_anaYpQMI3A7"
      },
      "source": [
        "\r\n",
        "# perform a training and testing split, using 75% of the data for\r\n",
        "# training and 25% for evaluation\r\n",
        "(trainX, testX, trainY, testY) = train_test_split(np.array(data),\tnp.array(labels), test_size=0.25, shuffle=True)\r\n",
        "print(trainX.shape)\r\n",
        "print(testX.shape)"
      ],
      "execution_count": null,
      "outputs": []
    },
    {
      "cell_type": "code",
      "metadata": {
        "id": "ncvfO_xNI442"
      },
      "source": [
        ""
      ],
      "execution_count": null,
      "outputs": []
    },
    {
      "cell_type": "code",
      "metadata": {
        "id": "LJztYaDxI6RQ"
      },
      "source": [
        "from keras.models import Sequential\r\n",
        "from keras.layers.core import Flatten\r\n",
        "from keras.layers.core import Dense\r\n",
        "\r\n",
        "model = Sequential(\r\n",
        "    [\r\n",
        "        Flatten(input_shape=(64*64*3,)),\r\n",
        "        Dense(100, activation=\"relu\", name=\"layer1\"),\r\n",
        "        Dense(16, activation=\"relu\", name=\"layer2\"),\r\n",
        "        Dense(16, activation=\"relu\", name=\"layer3\"),\r\n",
        "        Dense(5, activation = \"softmax\", name=\"layer4\"),\r\n",
        "    ]\r\n",
        ")"
      ],
      "execution_count": null,
      "outputs": []
    },
    {
      "cell_type": "code",
      "metadata": {
        "id": "w0Y6myudI-tx"
      },
      "source": [
        "model.summary()"
      ],
      "execution_count": null,
      "outputs": []
    },
    {
      "cell_type": "code",
      "metadata": {
        "id": "qL8AyKQXI_6z"
      },
      "source": [
        "# train the model using the Adam optimizer\r\n",
        "print(\"[INFO] training network...\")\r\n",
        "opt = Adam(lr=1e-3, decay=1e-3 / 50)\r\n",
        "model1.compile(loss=\"categorical_crossentropy\", optimizer=opt, metrics=[\"accuracy\"])"
      ],
      "execution_count": null,
      "outputs": []
    },
    {
      "cell_type": "code",
      "metadata": {
        "id": "1aJQf8kYJBmI"
      },
      "source": [
        "H = model1.fit(trainX, trainY, validation_data=(testX, testY), epochs=25, batch_size=32)"
      ],
      "execution_count": null,
      "outputs": []
    },
    {
      "cell_type": "code",
      "metadata": {
        "id": "yXBmMmjvJDKD"
      },
      "source": [
        "import matplotlib.pyplot as plt\r\n",
        "\r\n",
        "print(H.history.keys())\r\n",
        "# summarize history for accuracy\r\n",
        "plt.plot(H.history['accuracy'])\r\n",
        "plt.plot(H.history['val_accuracy'])\r\n",
        "plt.title('model accuracy')\r\n",
        "plt.ylabel('accuracy')\r\n",
        "plt.xlabel('epoch')\r\n",
        "plt.legend(['train', 'test'], loc='upper left')\r\n",
        "plt.show()\r\n",
        "# summarize history for loss\r\n",
        "plt.plot(H.history['loss'])\r\n",
        "plt.plot(H.history['val_loss'])\r\n",
        "plt.title('model loss')\r\n",
        "plt.ylabel('loss')\r\n",
        "plt.xlabel('epoch')\r\n",
        "plt.legend(['train', 'test'], loc='upper left')\r\n",
        "plt.show()"
      ],
      "execution_count": null,
      "outputs": []
    },
    {
      "cell_type": "code",
      "metadata": {
        "id": "_zIScUkJJEz4"
      },
      "source": [
        "# evaluate the network\r\n",
        "print(\"[INFO] evaluating network...\")\r\n",
        "predictions = model1.predict(testX, batch_size=32)\r\n",
        "print(classification_report(testY.argmax(axis=1),\r\n",
        "\tpredictions.argmax(axis=1), target_names=lb.classes_))"
      ],
      "execution_count": null,
      "outputs": []
    },
    {
      "cell_type": "code",
      "metadata": {
        "id": "MISdI6zPJHzg"
      },
      "source": [
        "\r\n",
        "model.save('nnmodel_scene')"
      ],
      "execution_count": null,
      "outputs": []
    }
  ]
}