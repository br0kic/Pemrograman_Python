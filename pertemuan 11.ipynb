{
  "nbformat": 4,
  "nbformat_minor": 0,
  "metadata": {
    "colab": {
      "name": "Welcome To Colaboratory",
      "provenance": [],
      "collapsed_sections": [],
      "toc_visible": true,
      "include_colab_link": true
    },
    "kernelspec": {
      "display_name": "Python 3",
      "name": "python3"
    }
  },
  "cells": [
    {
      "cell_type": "markdown",
      "metadata": {
        "id": "view-in-github",
        "colab_type": "text"
      },
      "source": [
        "<a href=\"https://colab.research.google.com/github/br0kic/Pemrograman_Python/blob/main/pertemuan%2011.ipynb\" target=\"_parent\"><img src=\"https://colab.research.google.com/assets/colab-badge.svg\" alt=\"Open In Colab\"/></a>"
      ]
    },
    {
      "cell_type": "code",
      "metadata": {
        "id": "ZKGn3m6YIX_l",
        "colab": {
          "base_uri": "https://localhost:8080/"
        },
        "outputId": "22ce592d-a43f-4b44-8359-be1ecde9576c"
      },
      "source": [
        "from google.colab import drive\n",
        "drive.mount('/content/drive')"
      ],
      "execution_count": 8,
      "outputs": [
        {
          "output_type": "stream",
          "text": [
            "Drive already mounted at /content/drive; to attempt to forcibly remount, call drive.mount(\"/content/drive\", force_remount=True).\n"
          ],
          "name": "stdout"
        }
      ]
    },
    {
      "cell_type": "code",
      "metadata": {
        "id": "QfbfY3VZIcfv",
        "colab": {
          "base_uri": "https://localhost:8080/"
        },
        "outputId": "752ab693-3074-40c0-e30d-e1ce72c21969"
      },
      "source": [
        "cd /content/drive/MyDrive"
      ],
      "execution_count": 9,
      "outputs": [
        {
          "output_type": "stream",
          "text": [
            "/content/drive/MyDrive\n"
          ],
          "name": "stdout"
        }
      ]
    },
    {
      "cell_type": "code",
      "metadata": {
        "id": "YSMQ1wBbIhH3",
        "colab": {
          "base_uri": "https://localhost:8080/"
        },
        "outputId": "b0bdce00-ed97-4820-9651-014e68cbd0a6"
      },
      "source": [
        "ls"
      ],
      "execution_count": 10,
      "outputs": [
        {
          "output_type": "stream",
          "text": [
            "'1 Computer Architecture, Microprocessor and Microcontroller.pptx'\n",
            " \u001b[0m\u001b[01;36m3scene\u001b[0m@\n",
            " best_weight_scene_mobileNet.h5\n",
            " \u001b[01;34mClassroom\u001b[0m/\n",
            " coast_art294.jpg\n",
            " \u001b[01;36mdataset\u001b[0m@\n",
            " \u001b[01;36mDATASET\u001b[0m@\n",
            "'Getting started.pdf'\n",
            " \u001b[01;36mGMB_11\u001b[0m@\n",
            " Maraden_quizz.pdf\n",
            " \u001b[01;34mnnmodel_scene\u001b[0m/\n",
            " nomer1.pdf\n",
            " nomer2.pdf\n",
            " nomer3.pdf\n",
            " quiz_jarkomdat_maraden.pdf\n",
            "\u001b[01;34m'Untitled folder'\u001b[0m/\n"
          ],
          "name": "stdout"
        }
      ]
    },
    {
      "cell_type": "code",
      "metadata": {
        "id": "iHxS3yDfIjC5"
      },
      "source": [
        "# import the necessary packages\r\n",
        "from keras.models import Sequential\r\n",
        "from keras.layers.core import Activation\r\n",
        "from keras.layers.core import Flatten\r\n",
        "from keras.layers.core import Dense\r\n",
        "from keras.optimizers import Adam\r\n",
        "from sklearn.preprocessing import LabelBinarizer\r\n",
        "from sklearn.model_selection import train_test_split\r\n",
        "from sklearn.metrics import classification_report\r\n",
        "from PIL import Image\r\n",
        "from imutils import paths\r\n",
        "import numpy as np\r\n",
        "import os"
      ],
      "execution_count": 35,
      "outputs": []
    },
    {
      "cell_type": "code",
      "metadata": {
        "id": "mRXGu-lWIkzl",
        "colab": {
          "base_uri": "https://localhost:8080/"
        },
        "outputId": "21d54649-49f4-4748-bcd3-141f9e4ad0e5"
      },
      "source": [
        "\r\n",
        "# grab all image paths in the input dataset directory, then initialize\r\n",
        "# our list of images and corresponding class labels\r\n",
        "print(\"[INFO] loading images...\")\r\n",
        "imagePaths = paths.list_images(\"DATASET\")\r\n",
        "data = []\r\n",
        "labels = []"
      ],
      "execution_count": 36,
      "outputs": [
        {
          "output_type": "stream",
          "text": [
            "[INFO] loading images...\n"
          ],
          "name": "stdout"
        }
      ]
    },
    {
      "cell_type": "code",
      "metadata": {
        "id": "8Mhs4gINIpyC"
      },
      "source": [
        "# loop over our input images\r\n",
        "for imagePath in imagePaths:\r\n",
        "\t# load the input image from disk, resize it to 64x64 pixels, scale\r\n",
        "\t# the pixel intensities to the range [0, 1], and then update our\r\n",
        "\t# images list\r\n",
        "\timage = Image.open(imagePath)\r\n",
        "  #preprocessing\r\n",
        "\timage = np.array(image.resize((256, 256))) / 255.0 #normalisasi\r\n",
        "\tdata.append(image)\r\n",
        "\r\n",
        "\t# extract the class label from the file path and update the\r\n",
        "\t# labels list\r\n",
        "\tlabel = imagePath.split(os.path.sep)[-2]\r\n",
        "\tlabels.append(label)"
      ],
      "execution_count": 37,
      "outputs": []
    },
    {
      "cell_type": "code",
      "metadata": {
        "id": "qf7NLqu5ItuU",
        "colab": {
          "base_uri": "https://localhost:8080/"
        },
        "outputId": "3f9dce79-8446-4ea5-e1f6-37adb7157467"
      },
      "source": [
        "print(labels)"
      ],
      "execution_count": 38,
      "outputs": [
        {
          "output_type": "stream",
          "text": [
            "['GMB_09', 'GMB_09', 'GMB_09', 'GMB_09', 'GMB_09', 'GMB_09', 'GMB_09', 'GMB_09', 'GMB_09', 'GMB_09', 'GMB_09', 'GMB_09', 'GMB_09', 'GMB_09', 'GMB_09', 'GMB_09', 'GMB_09', 'GMB_09', 'GMB_09', 'GMB_09', 'GMB_09', 'GMB_09', 'GMB_09', 'GMB_09', 'GMB_09', 'GMB_09', 'GMB_09', 'GMB_09', 'GMB_09', 'GMB_09', 'GMB_09', 'GMB_09', 'GMB_09', 'GMB_09', 'GMB_09', 'GMB_09', 'GMB_09', 'GMB_09', 'GMB_09', 'GMB_09', 'GMB_09', 'GMB_09', 'GMB_09', 'GMB_09', 'GMB_09', 'GMB_09', 'GMB_09', 'GMB_09', 'GMB_09', 'GMB_09', 'GMB_09', 'GMB_09', 'GMB_09', 'GMB_09', 'GMB_09', 'GMB_09', 'GMB_07', 'GMB_07', 'GMB_07', 'GMB_07', 'GMB_07', 'GMB_07', 'GMB_07', 'GMB_07', 'GMB_07', 'GMB_07', 'GMB_07', 'GMB_07', 'GMB_07', 'GMB_07', 'GMB_07', 'GMB_07', 'GMB_07', 'GMB_07', 'GMB_07', 'GMB_07', 'GMB_07', 'GMB_07', 'GMB_07', 'GMB_07', 'GMB_07', 'GMB_07', 'GMB_07', 'GMB_07', 'GMB_07', 'GMB_07', 'GMB_07', 'GMB_07', 'GMB_07', 'GMB_07', 'GMB_07', 'GMB_07', 'GMB_07', 'GMB_07', 'GMB_07', 'GMB_07', 'GMB_07', 'GMB_07', 'GMB_07', 'GMB_07', 'GMB_07', 'GMB_07', 'GMB_07', 'GMB_07', 'GMB_07', 'GMB_07', 'GMB_07', 'GMB_07', 'GMB_07', 'GMB_07', 'GMB_07', 'GMB_07', 'GMB_07', 'GMB_07', 'GMB_07', 'GMB_07', 'GMB_07', 'GMB_07', 'GMB_07', 'GMB_07', 'GMB_07', 'GMB_07', 'GMB_07', 'GMB_07', 'GMB_07', 'GMB_07', 'GMB_07', 'GMB_07', 'GMB_07', 'GMB_07', 'GMB_07', 'GMB_07', 'GMB_07', 'GMB_07', 'GMB_07', 'GMB_07', 'GMB_07', 'GMB_07', 'GMB_07', 'GMB_07', 'GMB_07', 'GMB_07', 'GMB_07', 'GMB_07', 'GMB_07', 'GMB_07', 'GMB_07', 'GMB_07', 'GMB_07', 'GMB_07', 'GMB_07', 'GMB_07', 'GMB_07', 'GMB_07', 'GMB_07', 'GMB_07', 'GMB_07', 'GMB_07', 'GMB_07', 'GMB_07', 'GMB_07', 'GMB_07', 'GMB_07', 'GMB_07', 'GMB_07', 'GMB_07', 'GMB_07', 'GMB_07', 'GMB_07', 'GMB_07', 'GMB_07', 'GMB_07', 'GMB_07', 'GMB_07', 'GMB_07', 'GMB_07', 'GMB_07', 'GMB_10', 'GMB_10', 'GMB_10', 'GMB_10', 'GMB_10', 'GMB_10', 'GMB_10', 'GMB_10', 'GMB_10', 'GMB_10', 'GMB_10', 'GMB_10', 'GMB_10', 'GMB_10', 'GMB_10', 'GMB_10', 'GMB_10', 'GMB_10', 'GMB_10', 'GMB_10', 'GMB_10', 'GMB_10', 'GMB_10', 'GMB_10', 'GMB_10', 'GMB_10', 'GMB_10', 'GMB_10', 'GMB_10', 'GMB_10', 'GMB_10', 'GMB_10', 'GMB_10', 'GMB_10', 'GMB_10', 'GMB_10', 'GMB_10', 'GMB_10', 'GMB_10', 'GMB_10', 'GMB_10', 'GMB_10', 'GMB_10', 'GMB_10', 'GMB_10', 'GMB_10', 'GMB_10', 'GMB_10', 'GMB_08', 'GMB_08', 'GMB_08', 'GMB_08', 'GMB_08', 'GMB_08', 'GMB_08', 'GMB_08', 'GMB_08', 'GMB_08', 'GMB_08', 'GMB_08', 'GMB_08', 'GMB_08', 'GMB_08', 'GMB_08', 'GMB_08', 'GMB_08', 'GMB_08', 'GMB_08', 'GMB_08', 'GMB_08', 'GMB_08', 'GMB_08', 'GMB_08', 'GMB_08', 'GMB_08', 'GMB_08', 'GMB_08', 'GMB_08', 'GMB_08', 'GMB_08', 'GMB_08', 'GMB_08', 'GMB_08', 'GMB_08', 'GMB_08', 'GMB_08', 'GMB_08', 'GMB_08', 'GMB_08', 'GMB_08', 'GMB_08', 'GMB_08', 'GMB_08', 'GMB_08', 'GMB_08', 'GMB_08', 'GMB_08', 'GMB_08', 'GMB_08', 'GMB_08', 'GMB_08', 'GMB_08', 'GMB_08', 'GMB_08', 'GMB_08', 'GMB_08', 'GMB_08', 'GMB_08', 'GMB_08', 'GMB_08', 'GMB_08', 'GMB_08', 'GMB_08', 'GMB_08', 'GMB_08', 'GMB_08', 'GMB_08', 'GMB_08', 'GMB_08', 'GMB_08', 'GMB_08', 'GMB_08', 'GMB_08', 'GMB_08', 'GMB_08', 'GMB_08', 'GMB_08', 'GMB_08', 'GMB_08', 'GMB_08', 'GMB_08', 'GMB_08', 'GMB_08', 'GMB_08', 'GMB_08', 'GMB_08', 'GMB_08', 'GMB_08', 'GMB_08', 'GMB_08', 'GMB_08', 'GMB_08', 'GMB_08', 'GMB_08', 'GMB_08', 'GMB_08', 'GMB_08', 'GMB_08', 'GMB_08', 'GMB_08', 'GMB_08', 'GMB_08', 'GMB_08', 'GMB_08', 'GMB_08', 'GMB_08', 'GMB_08', 'GMB_08', 'GMB_08', 'GMB_08', 'GMB_08', 'GMB_08', 'GMB_08', 'GMB_08', 'GMB_08', 'GMB_06', 'GMB_06', 'GMB_06', 'GMB_06', 'GMB_06', 'GMB_06', 'GMB_06', 'GMB_06', 'GMB_06', 'GMB_06', 'GMB_06', 'GMB_06', 'GMB_06', 'GMB_06', 'GMB_06', 'GMB_06', 'GMB_06', 'GMB_06', 'GMB_06', 'GMB_06', 'GMB_06', 'GMB_06', 'GMB_06', 'GMB_06', 'GMB_06', 'GMB_06', 'GMB_06', 'GMB_06', 'GMB_06', 'GMB_06', 'GMB_06', 'GMB_06', 'GMB_06', 'GMB_06', 'GMB_06', 'GMB_06', 'GMB_06', 'GMB_06', 'GMB_06', 'GMB_06', 'GMB_06', 'GMB_06', 'GMB_06', 'GMB_06', 'GMB_06', 'GMB_06', 'GMB_06', 'GMB_06', 'GMB_06', 'GMB_06', 'GMB_06', 'GMB_06', 'GMB_06', 'GMB_06', 'GMB_06', 'GMB_06', 'GMB_06', 'GMB_06', 'GMB_06', 'GMB_06', 'GMB_06', 'GMB_06', 'GMB_06', 'GMB_06', 'GMB_06', 'GMB_06', 'GMB_06', 'GMB_06', 'GMB_06', 'GMB_06', 'GMB_06', 'GMB_06', 'GMB_06', 'GMB_06', 'GMB_06', 'GMB_06', 'GMB_06', 'GMB_06', 'GMB_06', 'GMB_06', 'GMB_06', 'GMB_06', 'GMB_06', 'GMB_06', 'GMB_06', 'GMB_06', 'GMB_06', 'GMB_06', 'GMB_06', 'GMB_06', 'GMB_06', 'GMB_06', 'GMB_06', 'GMB_06', 'GMB_06', 'GMB_06', 'GMB_06', 'GMB_06', 'GMB_06', 'GMB_06', 'GMB_06', 'GMB_06', 'GMB_06', 'GMB_06', 'GMB_06', 'GMB_06', 'GMB_06', 'GMB_06', 'GMB_06', 'GMB_06', 'GMB_06', 'GMB_06', 'GMB_06', 'GMB_06', 'GMB_06', 'GMB_06', 'GMB_06', 'GMB_06', 'GMB_06', 'GMB_06', 'GMB_06']\n"
          ],
          "name": "stdout"
        }
      ]
    },
    {
      "cell_type": "code",
      "metadata": {
        "id": "YQKRLRihIz1N"
      },
      "source": [
        "# encode the labels, converting them from strings to integers\r\n",
        "lb = LabelBinarizer()\r\n",
        "labels = lb.fit_transform(labels)"
      ],
      "execution_count": 39,
      "outputs": []
    },
    {
      "cell_type": "code",
      "metadata": {
        "id": "1iM-yn2VI1zb",
        "colab": {
          "base_uri": "https://localhost:8080/"
        },
        "outputId": "7bea779a-3a9e-4d23-bb46-81a59d0b08a0"
      },
      "source": [
        "print(labels)"
      ],
      "execution_count": 40,
      "outputs": [
        {
          "output_type": "stream",
          "text": [
            "[[0 0 0 1 0]\n",
            " [0 0 0 1 0]\n",
            " [0 0 0 1 0]\n",
            " ...\n",
            " [1 0 0 0 0]\n",
            " [1 0 0 0 0]\n",
            " [1 0 0 0 0]]\n"
          ],
          "name": "stdout"
        }
      ]
    },
    {
      "cell_type": "code",
      "metadata": {
        "id": "_anaYpQMI3A7",
        "colab": {
          "base_uri": "https://localhost:8080/"
        },
        "outputId": "9c3f6d70-cc9e-42b4-b47d-444246c9f718"
      },
      "source": [
        "\r\n",
        "# perform a training and testing split, using 75% of the data for\r\n",
        "# training and 25% for evaluation\r\n",
        "(trainX, testX, trainY, testY) = train_test_split(np.array(data),\tnp.array(labels), test_size=0.25, shuffle=True)\r\n",
        "print(trainX.shape)\r\n",
        "print(testX.shape)"
      ],
      "execution_count": 41,
      "outputs": [
        {
          "output_type": "stream",
          "text": [
            "(347, 256, 256, 3)\n",
            "(116, 256, 256, 3)\n"
          ],
          "name": "stdout"
        }
      ]
    },
    {
      "cell_type": "code",
      "metadata": {
        "id": "ncvfO_xNI442",
        "colab": {
          "base_uri": "https://localhost:8080/"
        },
        "outputId": "d99b82f9-c3e7-498f-83a7-d6219c1eb3bc"
      },
      "source": [
        "from keras.layers import Convolution2D, MaxPool2D\r\n",
        "from keras.models import Sequential\r\n",
        "from keras.layers.core import Flatten, Dense\r\n",
        "\r\n",
        "model1 = Sequential()\r\n",
        "model1.add(Convolution2D(8, (3,3), activation='relu', input_shape=(256,256,3)))\r\n",
        "model1.add(MaxPool2D(2,2))\r\n",
        "model1.add(Convolution2D(16, (3,3), activation='relu'))\r\n",
        "model1.add(MaxPool2D(2,2))\r\n",
        "#fully connected layer\r\n",
        "model1.add(Flatten())\r\n",
        "model1.add(Dense(100, activation='relu'))\r\n",
        "model1.add(Dense(5, activation='softmax'))\r\n",
        "\r\n",
        "model1.summary()"
      ],
      "execution_count": 42,
      "outputs": [
        {
          "output_type": "stream",
          "text": [
            "Model: \"sequential_4\"\n",
            "_________________________________________________________________\n",
            "Layer (type)                 Output Shape              Param #   \n",
            "=================================================================\n",
            "conv2d_3 (Conv2D)            (None, 254, 254, 8)       224       \n",
            "_________________________________________________________________\n",
            "max_pooling2d_2 (MaxPooling2 (None, 127, 127, 8)       0         \n",
            "_________________________________________________________________\n",
            "conv2d_4 (Conv2D)            (None, 125, 125, 16)      1168      \n",
            "_________________________________________________________________\n",
            "max_pooling2d_3 (MaxPooling2 (None, 62, 62, 16)        0         \n",
            "_________________________________________________________________\n",
            "flatten_3 (Flatten)          (None, 61504)             0         \n",
            "_________________________________________________________________\n",
            "dense_2 (Dense)              (None, 100)               6150500   \n",
            "_________________________________________________________________\n",
            "dense_3 (Dense)              (None, 5)                 505       \n",
            "=================================================================\n",
            "Total params: 6,152,397\n",
            "Trainable params: 6,152,397\n",
            "Non-trainable params: 0\n",
            "_________________________________________________________________\n"
          ],
          "name": "stdout"
        }
      ]
    },
    {
      "cell_type": "code",
      "metadata": {
        "id": "LJztYaDxI6RQ"
      },
      "source": [
        "from keras.models import Sequential\r\n",
        "from keras.layers.core import Flatten\r\n",
        "from keras.layers.core import Dense\r\n",
        "\r\n",
        "model = Sequential(\r\n",
        "    [\r\n",
        "        Flatten(input_shape=(256*256*3,)),\r\n",
        "        Dense(100, activation=\"relu\", name=\"layer1\"),\r\n",
        "        Dense(16, activation=\"relu\", name=\"layer2\"),\r\n",
        "        Dense(16, activation=\"relu\", name=\"layer3\"),\r\n",
        "        Dense(5, activation = \"softmax\", name=\"layer4\"),\r\n",
        "    ]\r\n",
        ")"
      ],
      "execution_count": 43,
      "outputs": []
    },
    {
      "cell_type": "code",
      "metadata": {
        "id": "w0Y6myudI-tx",
        "colab": {
          "base_uri": "https://localhost:8080/"
        },
        "outputId": "4dfebdcf-a4fe-419a-beab-00b764445957"
      },
      "source": [
        "model.summary()"
      ],
      "execution_count": 44,
      "outputs": [
        {
          "output_type": "stream",
          "text": [
            "Model: \"sequential_5\"\n",
            "_________________________________________________________________\n",
            "Layer (type)                 Output Shape              Param #   \n",
            "=================================================================\n",
            "flatten_4 (Flatten)          (None, 196608)            0         \n",
            "_________________________________________________________________\n",
            "layer1 (Dense)               (None, 100)               19660900  \n",
            "_________________________________________________________________\n",
            "layer2 (Dense)               (None, 16)                1616      \n",
            "_________________________________________________________________\n",
            "layer3 (Dense)               (None, 16)                272       \n",
            "_________________________________________________________________\n",
            "layer4 (Dense)               (None, 5)                 85        \n",
            "=================================================================\n",
            "Total params: 19,662,873\n",
            "Trainable params: 19,662,873\n",
            "Non-trainable params: 0\n",
            "_________________________________________________________________\n"
          ],
          "name": "stdout"
        }
      ]
    },
    {
      "cell_type": "code",
      "metadata": {
        "id": "qL8AyKQXI_6z",
        "colab": {
          "base_uri": "https://localhost:8080/"
        },
        "outputId": "0463cdfb-59d6-4696-e326-2f7f346b7842"
      },
      "source": [
        "# train the model using the Adam optimizer\r\n",
        "print(\"[INFO] training network...\")\r\n",
        "opt = Adam(lr=1e-3, decay=1e-3 / 50)\r\n",
        "model1.compile(loss=\"categorical_crossentropy\", optimizer=opt, metrics=[\"accuracy\"])"
      ],
      "execution_count": 45,
      "outputs": [
        {
          "output_type": "stream",
          "text": [
            "[INFO] training network...\n"
          ],
          "name": "stdout"
        }
      ]
    },
    {
      "cell_type": "code",
      "metadata": {
        "id": "1aJQf8kYJBmI",
        "colab": {
          "base_uri": "https://localhost:8080/"
        },
        "outputId": "bc39b974-ea39-4dfe-b9a6-4837cf578243"
      },
      "source": [
        "H = model1.fit(trainX, trainY, validation_data=(testX, testY), epochs=25, batch_size=32)"
      ],
      "execution_count": 46,
      "outputs": [
        {
          "output_type": "stream",
          "text": [
            "Epoch 1/25\n",
            "11/11 [==============================] - 10s 947ms/step - loss: 8.2319 - accuracy: 0.2161 - val_loss: 2.6461 - val_accuracy: 0.2845\n",
            "Epoch 2/25\n",
            "11/11 [==============================] - 10s 924ms/step - loss: 1.8403 - accuracy: 0.3084 - val_loss: 1.5346 - val_accuracy: 0.3534\n",
            "Epoch 3/25\n",
            "11/11 [==============================] - 10s 933ms/step - loss: 1.3981 - accuracy: 0.4323 - val_loss: 1.5179 - val_accuracy: 0.3621\n",
            "Epoch 4/25\n",
            "11/11 [==============================] - 10s 931ms/step - loss: 1.2028 - accuracy: 0.4986 - val_loss: 1.3014 - val_accuracy: 0.4828\n",
            "Epoch 5/25\n",
            "11/11 [==============================] - 10s 930ms/step - loss: 1.0431 - accuracy: 0.6369 - val_loss: 1.1999 - val_accuracy: 0.5086\n",
            "Epoch 6/25\n",
            "11/11 [==============================] - 10s 929ms/step - loss: 0.8891 - accuracy: 0.6916 - val_loss: 1.0918 - val_accuracy: 0.5948\n",
            "Epoch 7/25\n",
            "11/11 [==============================] - 10s 930ms/step - loss: 0.7522 - accuracy: 0.7608 - val_loss: 1.0038 - val_accuracy: 0.5862\n",
            "Epoch 8/25\n",
            "11/11 [==============================] - 10s 938ms/step - loss: 0.6658 - accuracy: 0.7954 - val_loss: 0.9147 - val_accuracy: 0.6466\n",
            "Epoch 9/25\n",
            "11/11 [==============================] - 10s 933ms/step - loss: 0.5980 - accuracy: 0.7954 - val_loss: 1.0101 - val_accuracy: 0.6034\n",
            "Epoch 10/25\n",
            "11/11 [==============================] - 10s 933ms/step - loss: 0.5294 - accuracy: 0.8386 - val_loss: 0.8491 - val_accuracy: 0.7155\n",
            "Epoch 11/25\n",
            "11/11 [==============================] - 10s 939ms/step - loss: 0.4408 - accuracy: 0.8991 - val_loss: 0.8576 - val_accuracy: 0.6638\n",
            "Epoch 12/25\n",
            "11/11 [==============================] - 10s 936ms/step - loss: 0.3610 - accuracy: 0.9135 - val_loss: 0.7486 - val_accuracy: 0.7414\n",
            "Epoch 13/25\n",
            "11/11 [==============================] - 10s 936ms/step - loss: 0.3231 - accuracy: 0.9395 - val_loss: 0.8292 - val_accuracy: 0.6983\n",
            "Epoch 14/25\n",
            "11/11 [==============================] - 10s 938ms/step - loss: 0.2784 - accuracy: 0.9395 - val_loss: 0.7085 - val_accuracy: 0.7414\n",
            "Epoch 15/25\n",
            "11/11 [==============================] - 10s 932ms/step - loss: 0.2457 - accuracy: 0.9683 - val_loss: 0.7044 - val_accuracy: 0.7759\n",
            "Epoch 16/25\n",
            "11/11 [==============================] - 10s 944ms/step - loss: 0.1875 - accuracy: 0.9856 - val_loss: 0.6754 - val_accuracy: 0.7931\n",
            "Epoch 17/25\n",
            "11/11 [==============================] - 11s 970ms/step - loss: 0.1650 - accuracy: 0.9798 - val_loss: 0.7075 - val_accuracy: 0.7241\n",
            "Epoch 18/25\n",
            "11/11 [==============================] - 10s 935ms/step - loss: 0.1423 - accuracy: 0.9885 - val_loss: 0.6784 - val_accuracy: 0.7500\n",
            "Epoch 19/25\n",
            "11/11 [==============================] - 10s 940ms/step - loss: 0.1222 - accuracy: 1.0000 - val_loss: 0.6301 - val_accuracy: 0.8017\n",
            "Epoch 20/25\n",
            "11/11 [==============================] - 10s 937ms/step - loss: 0.0937 - accuracy: 0.9971 - val_loss: 0.6172 - val_accuracy: 0.8190\n",
            "Epoch 21/25\n",
            "11/11 [==============================] - 10s 936ms/step - loss: 0.0799 - accuracy: 1.0000 - val_loss: 0.6164 - val_accuracy: 0.7845\n",
            "Epoch 22/25\n",
            "11/11 [==============================] - 10s 938ms/step - loss: 0.0669 - accuracy: 1.0000 - val_loss: 0.6155 - val_accuracy: 0.7845\n",
            "Epoch 23/25\n",
            "11/11 [==============================] - 10s 935ms/step - loss: 0.0585 - accuracy: 1.0000 - val_loss: 0.6070 - val_accuracy: 0.7672\n",
            "Epoch 24/25\n",
            "11/11 [==============================] - 10s 944ms/step - loss: 0.0531 - accuracy: 1.0000 - val_loss: 0.6514 - val_accuracy: 0.7845\n",
            "Epoch 25/25\n",
            "11/11 [==============================] - 13s 1s/step - loss: 0.0465 - accuracy: 1.0000 - val_loss: 0.6190 - val_accuracy: 0.8103\n"
          ],
          "name": "stdout"
        }
      ]
    },
    {
      "cell_type": "code",
      "metadata": {
        "id": "yXBmMmjvJDKD",
        "colab": {
          "base_uri": "https://localhost:8080/",
          "height": 588
        },
        "outputId": "0811b210-baa0-47ae-fc3d-b118abda026e"
      },
      "source": [
        "import matplotlib.pyplot as plt\r\n",
        "\r\n",
        "print(H.history.keys())\r\n",
        "# summarize history for accuracy\r\n",
        "plt.plot(H.history['accuracy'])\r\n",
        "plt.plot(H.history['val_accuracy'])\r\n",
        "plt.title('model accuracy')\r\n",
        "plt.ylabel('accuracy')\r\n",
        "plt.xlabel('epoch')\r\n",
        "plt.legend(['train', 'test'], loc='upper left')\r\n",
        "plt.show()\r\n",
        "# summarize history for loss\r\n",
        "plt.plot(H.history['loss'])\r\n",
        "plt.plot(H.history['val_loss'])\r\n",
        "plt.title('model loss')\r\n",
        "plt.ylabel('loss')\r\n",
        "plt.xlabel('epoch')\r\n",
        "plt.legend(['train', 'test'], loc='upper left')\r\n",
        "plt.show()"
      ],
      "execution_count": 47,
      "outputs": [
        {
          "output_type": "stream",
          "text": [
            "dict_keys(['loss', 'accuracy', 'val_loss', 'val_accuracy'])\n"
          ],
          "name": "stdout"
        },
        {
          "output_type": "display_data",
          "data": {
            "image/png": "[encoded data removed]",
            "text/plain": [
              "<Figure size 432x288 with 1 Axes>"
            ]
          },
          "metadata": {
            "tags": [],
            "needs_background": "light"
          }
        },
        {
          "output_type": "display_data",
          "data": {
            "image/png": "[encoded data removed]",
            "text/plain": [
              "<Figure size 432x288 with 1 Axes>"
            ]
          },
          "metadata": {
            "tags": [],
            "needs_background": "light"
          }
        }
      ]
    },
    {
      "cell_type": "code",
      "metadata": {
        "id": "_zIScUkJJEz4",
        "colab": {
          "base_uri": "https://localhost:8080/"
        },
        "outputId": "8eef000d-9094-4cf7-c0b4-dce238442ce2"
      },
      "source": [
        "# evaluate the network\r\n",
        "print(\"[INFO] evaluating network...\")\r\n",
        "predictions = model1.predict(testX, batch_size=32)\r\n",
        "print(classification_report(testY.argmax(axis=1),\r\n",
        "\tpredictions.argmax(axis=1), target_names=lb.classes_))"
      ],
      "execution_count": 48,
      "outputs": [
        {
          "output_type": "stream",
          "text": [
            "[INFO] evaluating network...\n",
            "              precision    recall  f1-score   support\n",
            "\n",
            "      GMB_06       0.70      0.82      0.75        28\n",
            "      GMB_07       0.78      0.89      0.83        28\n",
            "      GMB_08       0.91      0.78      0.84        27\n",
            "      GMB_09       0.93      0.82      0.87        17\n",
            "      GMB_10       0.85      0.69      0.76        16\n",
            "\n",
            "    accuracy                           0.81       116\n",
            "   macro avg       0.83      0.80      0.81       116\n",
            "weighted avg       0.82      0.81      0.81       116\n",
            "\n"
          ],
          "name": "stdout"
        }
      ]
    },
    {
      "cell_type": "code",
      "metadata": {
        "id": "MISdI6zPJHzg",
        "colab": {
          "base_uri": "https://localhost:8080/"
        },
        "outputId": "7ef85128-bc7a-48dd-87f4-535d2bf07946"
      },
      "source": [
        "\r\n",
        "model1.save('nnmodel_scene')"
      ],
      "execution_count": 50,
      "outputs": [
        {
          "output_type": "stream",
          "text": [
            "INFO:tensorflow:Assets written to: nnmodel_scene/assets\n"
          ],
          "name": "stdout"
        }
      ]
    }
  ]
}