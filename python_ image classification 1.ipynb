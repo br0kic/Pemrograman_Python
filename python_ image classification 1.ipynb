{
  "nbformat": 4,
  "nbformat_minor": 0,
  "metadata": {
    "colab": {
      "name": "Welcome To Colaboratory",
      "provenance": [],
      "collapsed_sections": [],
      "toc_visible": true,
      "include_colab_link": true
    },
    "kernelspec": {
      "display_name": "Python 3",
      "name": "python3"
    }
  },
  "cells": [
    {
      "cell_type": "markdown",
      "metadata": {
        "id": "view-in-github",
        "colab_type": "text"
      },
      "source": [
        "<a href=\"https://colab.research.google.com/github/br0kic/Pemrograman_Python/blob/main/python_%20image%20classification%201.ipynb\" target=\"_parent\"><img src=\"https://colab.research.google.com/assets/colab-badge.svg\" alt=\"Open In Colab\"/></a>"
      ]
    },
    {
      "cell_type": "code",
      "metadata": {
        "colab": {
          "base_uri": "https://localhost:8080/"
        },
        "id": "aWJB2mBrsrvX",
        "outputId": "5e2f512b-5319-46d6-8b80-55f183036062"
      },
      "source": [
        "from google.colab import drive\n",
        "drive.mount('/content/drive')"
      ],
      "execution_count": 1,
      "outputs": [
        {
          "output_type": "stream",
          "text": [
            "Mounted at /content/drive\n"
          ],
          "name": "stdout"
        }
      ]
    },
    {
      "cell_type": "code",
      "metadata": {
        "colab": {
          "base_uri": "https://localhost:8080/"
        },
        "id": "9GQjK-p0oLhu",
        "outputId": "5b7cbad8-8fcb-48b5-c1a1-e031774696a9"
      },
      "source": [
        "cd /content/drive/MyDrive"
      ],
      "execution_count": 20,
      "outputs": [
        {
          "output_type": "stream",
          "text": [
            "/content/drive/MyDrive\n"
          ],
          "name": "stdout"
        }
      ]
    },
    {
      "cell_type": "code",
      "metadata": {
        "colab": {
          "base_uri": "https://localhost:8080/"
        },
        "id": "wu_uu6quoR9H",
        "outputId": "77c5218d-3891-4503-86d4-a970e52fcf1c"
      },
      "source": [
        "ls"
      ],
      "execution_count": 21,
      "outputs": [
        {
          "output_type": "stream",
          "text": [
            "'1 Computer Architecture, Microprocessor and Microcontroller.pptx'\n",
            " \u001b[0m\u001b[01;36m3scene\u001b[0m@\n",
            " \u001b[01;34mClassroom\u001b[0m/\n",
            " coast_art294.jpg\n",
            "'Getting started.pdf'\n",
            " Maraden_quizz.pdf\n",
            " nomer1.pdf\n",
            " nomer2.pdf\n",
            " nomer3.pdf\n",
            " quiz_jarkomdat_maraden.pdf\n",
            "\u001b[01;34m'Untitled folder'\u001b[0m/\n"
          ],
          "name": "stdout"
        }
      ]
    },
    {
      "cell_type": "code",
      "metadata": {
        "id": "w36D6NEztD7_"
      },
      "source": [
        "# import the necessary packages\n",
        "from keras.models import Sequential\n",
        "from keras.layers.convolutional import Conv2D\n",
        "from keras.layers.convolutional import MaxPooling2D\n",
        "from keras.layers.core import Activation\n",
        "from keras.layers.core import Flatten\n",
        "from keras.layers.core import Dense\n",
        "from keras.optimizers import Adam\n",
        "from sklearn.preprocessing import LabelBinarizer\n",
        "from sklearn.model_selection import train_test_split\n",
        "from sklearn.metrics import classification_report\n",
        "from PIL import Image\n",
        "from imutils import paths\n",
        "import numpy as np\n",
        "import os"
      ],
      "execution_count": 22,
      "outputs": []
    },
    {
      "cell_type": "code",
      "metadata": {
        "colab": {
          "base_uri": "https://localhost:8080/"
        },
        "id": "9h93lwAqtYp6",
        "outputId": "0463187b-1cad-4fb3-e952-a0b12af00a65"
      },
      "source": [
        "# grab all image paths in the input dataset directory, then initialize\n",
        "# our list of images and corresponding class labels\n",
        "print(\"[INFO] loading images...\")\n",
        "imagePaths = paths.list_images(\"3scene\")\n",
        "data = []\n",
        "labels = []"
      ],
      "execution_count": 23,
      "outputs": [
        {
          "output_type": "stream",
          "text": [
            "[INFO] loading images...\n"
          ],
          "name": "stdout"
        }
      ]
    },
    {
      "cell_type": "code",
      "metadata": {
        "id": "jJxjA55atz4q"
      },
      "source": [
        "# loop over our input images\n",
        "for imagePath in imagePaths:\n",
        "\t# load the input image from disk, resize it to 64x64 pixels, scale\n",
        "\t# the pixel intensities to the range [0, 1], and then update our\n",
        "\t# images list\n",
        "\timage = Image.open(imagePath)\n",
        "\timage = np.array(image.resize((64, 64))) / 255.0\n",
        "\tdata.append(image)\n",
        "\n",
        "\t# extract the class label from the file path and update the\n",
        "\t# labels list\n",
        "\tlabel = imagePath.split(os.path.sep)[-2]\n",
        "\tlabels.append(label)"
      ],
      "execution_count": 24,
      "outputs": []
    },
    {
      "cell_type": "code",
      "metadata": {
        "colab": {
          "base_uri": "https://localhost:8080/"
        },
        "id": "Uc486Aqkt38R",
        "outputId": "e4ea2a46-91f5-4fb6-960b-add4e02f6f27"
      },
      "source": [
        "print(labels)"
      ],
      "execution_count": 25,
      "outputs": [
        {
          "output_type": "stream",
          "text": [
            "['forest', 'forest', 'forest', 'forest', 'forest', 'forest', 'forest', 'forest', 'forest', 'forest', 'forest', 'forest', 'forest', 'forest', 'forest', 'forest', 'forest', 'forest', 'forest', 'forest', 'forest', 'forest', 'forest', 'forest', 'forest', 'forest', 'forest', 'forest', 'forest', 'forest', 'forest', 'forest', 'forest', 'forest', 'forest', 'forest', 'forest', 'forest', 'forest', 'forest', 'forest', 'forest', 'forest', 'forest', 'forest', 'forest', 'forest', 'forest', 'forest', 'forest', 'forest', 'forest', 'forest', 'forest', 'forest', 'forest', 'forest', 'forest', 'forest', 'forest', 'forest', 'forest', 'forest', 'forest', 'forest', 'forest', 'forest', 'forest', 'forest', 'forest', 'forest', 'forest', 'forest', 'forest', 'forest', 'forest', 'forest', 'forest', 'forest', 'forest', 'forest', 'forest', 'forest', 'forest', 'forest', 'forest', 'forest', 'forest', 'forest', 'forest', 'forest', 'forest', 'forest', 'forest', 'forest', 'forest', 'forest', 'forest', 'forest', 'forest', 'forest', 'forest', 'forest', 'forest', 'forest', 'forest', 'forest', 'forest', 'forest', 'forest', 'forest', 'forest', 'forest', 'forest', 'forest', 'forest', 'forest', 'forest', 'forest', 'forest', 'forest', 'forest', 'forest', 'forest', 'forest', 'forest', 'forest', 'forest', 'forest', 'forest', 'forest', 'forest', 'forest', 'forest', 'forest', 'forest', 'forest', 'forest', 'forest', 'forest', 'forest', 'forest', 'forest', 'forest', 'forest', 'forest', 'forest', 'forest', 'forest', 'forest', 'forest', 'forest', 'forest', 'forest', 'forest', 'forest', 'forest', 'forest', 'forest', 'forest', 'forest', 'forest', 'forest', 'forest', 'forest', 'forest', 'forest', 'forest', 'forest', 'forest', 'forest', 'forest', 'forest', 'forest', 'forest', 'forest', 'forest', 'forest', 'forest', 'forest', 'forest', 'forest', 'forest', 'forest', 'forest', 'forest', 'forest', 'forest', 'forest', 'forest', 'forest', 'forest', 'forest', 'forest', 'forest', 'forest', 'forest', 'forest', 'forest', 'forest', 'forest', 'forest', 'forest', 'forest', 'forest', 'forest', 'forest', 'forest', 'forest', 'forest', 'forest', 'forest', 'forest', 'forest', 'forest', 'forest', 'forest', 'forest', 'forest', 'forest', 'forest', 'forest', 'forest', 'forest', 'forest', 'forest', 'forest', 'forest', 'forest', 'forest', 'forest', 'forest', 'forest', 'forest', 'forest', 'forest', 'forest', 'forest', 'forest', 'forest', 'forest', 'forest', 'forest', 'forest', 'forest', 'forest', 'forest', 'forest', 'forest', 'forest', 'forest', 'forest', 'forest', 'forest', 'forest', 'forest', 'forest', 'forest', 'forest', 'forest', 'forest', 'forest', 'forest', 'forest', 'forest', 'forest', 'forest', 'forest', 'forest', 'forest', 'forest', 'forest', 'forest', 'forest', 'forest', 'forest', 'forest', 'forest', 'forest', 'forest', 'forest', 'forest', 'forest', 'forest', 'forest', 'forest', 'forest', 'forest', 'forest', 'forest', 'forest', 'forest', 'forest', 'forest', 'forest', 'forest', 'forest', 'forest', 'forest', 'forest', 'forest', 'forest', 'forest', 'forest', 'forest', 'forest', 'forest', 'forest', 'forest', 'forest', 'forest', 'forest', 'forest', 'forest', 'forest', 'forest', 'forest', 'forest', 'forest', 'forest', 'forest', 'forest', 'forest', 'forest', 'forest', 'forest', 'forest', 'forest', 'highway', 'highway', 'highway', 'highway', 'highway', 'highway', 'highway', 'highway', 'highway', 'highway', 'highway', 'highway', 'highway', 'highway', 'highway', 'highway', 'highway', 'highway', 'highway', 'highway', 'highway', 'highway', 'highway', 'highway', 'highway', 'highway', 'highway', 'highway', 'highway', 'highway', 'highway', 'highway', 'highway', 'highway', 'highway', 'highway', 'highway', 'highway', 'highway', 'highway', 'highway', 'highway', 'highway', 'highway', 'highway', 'highway', 'highway', 'highway', 'highway', 'highway', 'highway', 'highway', 'highway', 'highway', 'highway', 'highway', 'highway', 'highway', 'highway', 'highway', 'highway', 'highway', 'highway', 'highway', 'highway', 'highway', 'highway', 'highway', 'highway', 'highway', 'highway', 'highway', 'highway', 'highway', 'highway', 'highway', 'highway', 'highway', 'highway', 'highway', 'highway', 'highway', 'highway', 'highway', 'highway', 'highway', 'highway', 'highway', 'highway', 'highway', 'highway', 'highway', 'highway', 'highway', 'highway', 'highway', 'highway', 'highway', 'highway', 'highway', 'highway', 'highway', 'highway', 'highway', 'highway', 'highway', 'highway', 'highway', 'highway', 'highway', 'highway', 'highway', 'highway', 'highway', 'highway', 'highway', 'highway', 'highway', 'highway', 'highway', 'highway', 'highway', 'highway', 'highway', 'highway', 'highway', 'highway', 'highway', 'highway', 'highway', 'highway', 'highway', 'highway', 'highway', 'highway', 'highway', 'highway', 'highway', 'highway', 'highway', 'highway', 'highway', 'highway', 'highway', 'highway', 'highway', 'highway', 'highway', 'highway', 'highway', 'highway', 'highway', 'highway', 'highway', 'highway', 'highway', 'highway', 'highway', 'highway', 'highway', 'highway', 'highway', 'highway', 'highway', 'highway', 'highway', 'highway', 'highway', 'highway', 'highway', 'highway', 'highway', 'highway', 'highway', 'highway', 'highway', 'highway', 'highway', 'highway', 'highway', 'highway', 'highway', 'highway', 'highway', 'highway', 'highway', 'highway', 'highway', 'highway', 'highway', 'highway', 'highway', 'highway', 'highway', 'highway', 'highway', 'highway', 'highway', 'highway', 'highway', 'highway', 'highway', 'highway', 'highway', 'highway', 'highway', 'highway', 'highway', 'highway', 'highway', 'highway', 'highway', 'highway', 'highway', 'highway', 'highway', 'highway', 'highway', 'highway', 'highway', 'highway', 'highway', 'highway', 'highway', 'highway', 'highway', 'highway', 'highway', 'highway', 'highway', 'highway', 'highway', 'highway', 'highway', 'highway', 'highway', 'highway', 'highway', 'highway', 'highway', 'highway', 'highway', 'highway', 'highway', 'highway', 'highway', 'highway', 'highway', 'highway', 'highway', 'highway', 'highway', 'highway', 'highway', 'highway', 'highway', 'highway', 'highway', 'highway', 'highway', 'coast', 'coast', 'coast', 'coast', 'coast', 'coast', 'coast', 'coast', 'coast', 'coast', 'coast', 'coast', 'coast', 'coast', 'coast', 'coast', 'coast', 'coast', 'coast', 'coast', 'coast', 'coast', 'coast', 'coast', 'coast', 'coast', 'coast', 'coast', 'coast', 'coast', 'coast', 'coast', 'coast', 'coast', 'coast', 'coast', 'coast', 'coast', 'coast', 'coast', 'coast', 'coast', 'coast', 'coast', 'coast', 'coast', 'coast', 'coast', 'coast', 'coast', 'coast', 'coast', 'coast', 'coast', 'coast', 'coast', 'coast', 'coast', 'coast', 'coast', 'coast', 'coast', 'coast', 'coast', 'coast', 'coast', 'coast', 'coast', 'coast', 'coast', 'coast', 'coast', 'coast', 'coast', 'coast', 'coast', 'coast', 'coast', 'coast', 'coast', 'coast', 'coast', 'coast', 'coast', 'coast', 'coast', 'coast', 'coast', 'coast', 'coast', 'coast', 'coast', 'coast', 'coast', 'coast', 'coast', 'coast', 'coast', 'coast', 'coast', 'coast', 'coast', 'coast', 'coast', 'coast', 'coast', 'coast', 'coast', 'coast', 'coast', 'coast', 'coast', 'coast', 'coast', 'coast', 'coast', 'coast', 'coast', 'coast', 'coast', 'coast', 'coast', 'coast', 'coast', 'coast', 'coast', 'coast', 'coast', 'coast', 'coast', 'coast', 'coast', 'coast', 'coast', 'coast', 'coast', 'coast', 'coast', 'coast', 'coast', 'coast', 'coast', 'coast', 'coast', 'coast', 'coast', 'coast', 'coast', 'coast', 'coast', 'coast', 'coast', 'coast', 'coast', 'coast', 'coast', 'coast', 'coast', 'coast', 'coast', 'coast', 'coast', 'coast', 'coast', 'coast', 'coast', 'coast', 'coast', 'coast', 'coast', 'coast', 'coast', 'coast', 'coast', 'coast', 'coast', 'coast', 'coast', 'coast', 'coast', 'coast', 'coast', 'coast', 'coast', 'coast', 'coast', 'coast', 'coast', 'coast', 'coast', 'coast', 'coast', 'coast', 'coast', 'coast', 'coast', 'coast', 'coast', 'coast', 'coast', 'coast', 'coast', 'coast', 'coast', 'coast', 'coast', 'coast', 'coast', 'coast', 'coast', 'coast', 'coast', 'coast', 'coast', 'coast', 'coast', 'coast', 'coast', 'coast', 'coast', 'coast', 'coast', 'coast', 'coast', 'coast', 'coast', 'coast', 'coast', 'coast', 'coast', 'coast', 'coast', 'coast', 'coast', 'coast', 'coast', 'coast', 'coast', 'coast', 'coast', 'coast', 'coast', 'coast', 'coast', 'coast', 'coast', 'coast', 'coast', 'coast', 'coast', 'coast', 'coast', 'coast', 'coast', 'coast', 'coast', 'coast', 'coast', 'coast', 'coast', 'coast', 'coast', 'coast', 'coast', 'coast', 'coast', 'coast', 'coast', 'coast', 'coast', 'coast', 'coast', 'coast', 'coast', 'coast', 'coast', 'coast', 'coast', 'coast', 'coast', 'coast', 'coast', 'coast', 'coast', 'coast', 'coast', 'coast', 'coast', 'coast', 'coast', 'coast', 'coast', 'coast', 'coast', 'coast', 'coast', 'coast', 'coast', 'coast', 'coast', 'coast', 'coast', 'coast', 'coast', 'coast', 'coast', 'coast', 'coast', 'coast', 'coast', 'coast', 'coast', 'coast', 'coast', 'coast', 'coast', 'coast', 'coast', 'coast', 'coast', 'coast', 'coast', 'coast', 'coast', 'coast', 'coast', 'coast', 'coast', 'coast', 'coast', 'coast', 'coast', 'coast', 'coast', 'coast', 'coast', 'coast', 'coast', 'coast', 'coast', 'coast', 'coast', 'coast', 'coast', 'coast', 'coast', 'coast', 'coast', 'coast', 'coast', 'coast', 'coast', 'coast', 'coast', 'coast', 'coast', 'coast', 'coast', 'coast', 'coast']\n"
          ],
          "name": "stdout"
        }
      ]
    },
    {
      "cell_type": "code",
      "metadata": {
        "id": "uVfh0BZ6t5p9"
      },
      "source": [
        "# encode the labels, converting them from strings to integers\n",
        "lb = LabelBinarizer()\n",
        "labels = lb.fit_transform(labels)"
      ],
      "execution_count": 26,
      "outputs": []
    },
    {
      "cell_type": "code",
      "metadata": {
        "colab": {
          "base_uri": "https://localhost:8080/"
        },
        "id": "wpxWhJG4t69U",
        "outputId": "6e3513e3-3cd0-44ae-ec7f-884ba7034c22"
      },
      "source": [
        "print(labels)"
      ],
      "execution_count": 27,
      "outputs": [
        {
          "output_type": "stream",
          "text": [
            "[[0 1 0]\n",
            " [0 1 0]\n",
            " [0 1 0]\n",
            " ...\n",
            " [1 0 0]\n",
            " [1 0 0]\n",
            " [1 0 0]]\n"
          ],
          "name": "stdout"
        }
      ]
    },
    {
      "cell_type": "code",
      "metadata": {
        "colab": {
          "base_uri": "https://localhost:8080/"
        },
        "id": "X9QwyhOMt8T3",
        "outputId": "1a832036-f558-4896-fdfb-3c39fc998e75"
      },
      "source": [
        "# perform a training and testing split, using 75% of the data for\n",
        "# training and 25% for evaluation\n",
        "(trainX, testX, trainY, testY) = train_test_split(np.array(data),\tnp.array(labels), test_size=0.25)\n",
        "print(trainX.shape)\n",
        "print(testX.shape)"
      ],
      "execution_count": 28,
      "outputs": [
        {
          "output_type": "stream",
          "text": [
            "(711, 64, 64, 3)\n",
            "(237, 64, 64, 3)\n"
          ],
          "name": "stdout"
        }
      ]
    },
    {
      "cell_type": "code",
      "metadata": {
        "id": "XWA2thovuOo-"
      },
      "source": [
        "from keras.applications.mobilenet import MobileNet\n",
        "from keras.callbacks import EarlyStopping, ModelCheckpoint\n",
        "from keras.models import Model\n",
        "from keras.layers import GlobalAveragePooling2D, BatchNormalization"
      ],
      "execution_count": 29,
      "outputs": []
    },
    {
      "cell_type": "code",
      "metadata": {
        "colab": {
          "base_uri": "https://localhost:8080/"
        },
        "id": "qJhlqLxuuQDr",
        "outputId": "354028c8-4b42-4c65-e778-efc3d639db1a"
      },
      "source": [
        "from keras.layers import Dropout\n",
        "base_model = MobileNet(weights='imagenet', include_top=False)\n",
        "x = base_model.output\n",
        "x = GlobalAveragePooling2D()(x)\n",
        "x = Dropout(0.5)(x)\n",
        "x = BatchNormalization()(x)\n",
        "x = Dense(512, activation='relu')(x)\n",
        "out = Dense(3, activation='softmax')(x)\n",
        "\n",
        "model = Model(inputs=base_model.input, outputs=out)\n",
        "model.summary()"
      ],
      "execution_count": 30,
      "outputs": [
        {
          "output_type": "stream",
          "text": [
            "WARNING:tensorflow:`input_shape` is undefined or non-square, or `rows` is not in [128, 160, 192, 224]. Weights for input shape (224, 224) will be loaded as the default.\n",
            "Downloading data from https://storage.googleapis.com/tensorflow/keras-applications/mobilenet/mobilenet_1_0_224_tf_no_top.h5\n",
            "17227776/17225924 [==============================] - 0s 0us/step\n",
            "Model: \"functional_1\"\n",
            "_________________________________________________________________\n",
            "Layer (type)                 Output Shape              Param #   \n",
            "=================================================================\n",
            "input_1 (InputLayer)         [(None, None, None, 3)]   0         \n",
            "_________________________________________________________________\n",
            "conv1_pad (ZeroPadding2D)    (None, None, None, 3)     0         \n",
            "_________________________________________________________________\n",
            "conv1 (Conv2D)               (None, None, None, 32)    864       \n",
            "_________________________________________________________________\n",
            "conv1_bn (BatchNormalization (None, None, None, 32)    128       \n",
            "_________________________________________________________________\n",
            "conv1_relu (ReLU)            (None, None, None, 32)    0         \n",
            "_________________________________________________________________\n",
            "conv_dw_1 (DepthwiseConv2D)  (None, None, None, 32)    288       \n",
            "_________________________________________________________________\n",
            "conv_dw_1_bn (BatchNormaliza (None, None, None, 32)    128       \n",
            "_________________________________________________________________\n",
            "conv_dw_1_relu (ReLU)        (None, None, None, 32)    0         \n",
            "_________________________________________________________________\n",
            "conv_pw_1 (Conv2D)           (None, None, None, 64)    2048      \n",
            "_________________________________________________________________\n",
            "conv_pw_1_bn (BatchNormaliza (None, None, None, 64)    256       \n",
            "_________________________________________________________________\n",
            "conv_pw_1_relu (ReLU)        (None, None, None, 64)    0         \n",
            "_________________________________________________________________\n",
            "conv_pad_2 (ZeroPadding2D)   (None, None, None, 64)    0         \n",
            "_________________________________________________________________\n",
            "conv_dw_2 (DepthwiseConv2D)  (None, None, None, 64)    576       \n",
            "_________________________________________________________________\n",
            "conv_dw_2_bn (BatchNormaliza (None, None, None, 64)    256       \n",
            "_________________________________________________________________\n",
            "conv_dw_2_relu (ReLU)        (None, None, None, 64)    0         \n",
            "_________________________________________________________________\n",
            "conv_pw_2 (Conv2D)           (None, None, None, 128)   8192      \n",
            "_________________________________________________________________\n",
            "conv_pw_2_bn (BatchNormaliza (None, None, None, 128)   512       \n",
            "_________________________________________________________________\n",
            "conv_pw_2_relu (ReLU)        (None, None, None, 128)   0         \n",
            "_________________________________________________________________\n",
            "conv_dw_3 (DepthwiseConv2D)  (None, None, None, 128)   1152      \n",
            "_________________________________________________________________\n",
            "conv_dw_3_bn (BatchNormaliza (None, None, None, 128)   512       \n",
            "_________________________________________________________________\n",
            "conv_dw_3_relu (ReLU)        (None, None, None, 128)   0         \n",
            "_________________________________________________________________\n",
            "conv_pw_3 (Conv2D)           (None, None, None, 128)   16384     \n",
            "_________________________________________________________________\n",
            "conv_pw_3_bn (BatchNormaliza (None, None, None, 128)   512       \n",
            "_________________________________________________________________\n",
            "conv_pw_3_relu (ReLU)        (None, None, None, 128)   0         \n",
            "_________________________________________________________________\n",
            "conv_pad_4 (ZeroPadding2D)   (None, None, None, 128)   0         \n",
            "_________________________________________________________________\n",
            "conv_dw_4 (DepthwiseConv2D)  (None, None, None, 128)   1152      \n",
            "_________________________________________________________________\n",
            "conv_dw_4_bn (BatchNormaliza (None, None, None, 128)   512       \n",
            "_________________________________________________________________\n",
            "conv_dw_4_relu (ReLU)        (None, None, None, 128)   0         \n",
            "_________________________________________________________________\n",
            "conv_pw_4 (Conv2D)           (None, None, None, 256)   32768     \n",
            "_________________________________________________________________\n",
            "conv_pw_4_bn (BatchNormaliza (None, None, None, 256)   1024      \n",
            "_________________________________________________________________\n",
            "conv_pw_4_relu (ReLU)        (None, None, None, 256)   0         \n",
            "_________________________________________________________________\n",
            "conv_dw_5 (DepthwiseConv2D)  (None, None, None, 256)   2304      \n",
            "_________________________________________________________________\n",
            "conv_dw_5_bn (BatchNormaliza (None, None, None, 256)   1024      \n",
            "_________________________________________________________________\n",
            "conv_dw_5_relu (ReLU)        (None, None, None, 256)   0         \n",
            "_________________________________________________________________\n",
            "conv_pw_5 (Conv2D)           (None, None, None, 256)   65536     \n",
            "_________________________________________________________________\n",
            "conv_pw_5_bn (BatchNormaliza (None, None, None, 256)   1024      \n",
            "_________________________________________________________________\n",
            "conv_pw_5_relu (ReLU)        (None, None, None, 256)   0         \n",
            "_________________________________________________________________\n",
            "conv_pad_6 (ZeroPadding2D)   (None, None, None, 256)   0         \n",
            "_________________________________________________________________\n",
            "conv_dw_6 (DepthwiseConv2D)  (None, None, None, 256)   2304      \n",
            "_________________________________________________________________\n",
            "conv_dw_6_bn (BatchNormaliza (None, None, None, 256)   1024      \n",
            "_________________________________________________________________\n",
            "conv_dw_6_relu (ReLU)        (None, None, None, 256)   0         \n",
            "_________________________________________________________________\n",
            "conv_pw_6 (Conv2D)           (None, None, None, 512)   131072    \n",
            "_________________________________________________________________\n",
            "conv_pw_6_bn (BatchNormaliza (None, None, None, 512)   2048      \n",
            "_________________________________________________________________\n",
            "conv_pw_6_relu (ReLU)        (None, None, None, 512)   0         \n",
            "_________________________________________________________________\n",
            "conv_dw_7 (DepthwiseConv2D)  (None, None, None, 512)   4608      \n",
            "_________________________________________________________________\n",
            "conv_dw_7_bn (BatchNormaliza (None, None, None, 512)   2048      \n",
            "_________________________________________________________________\n",
            "conv_dw_7_relu (ReLU)        (None, None, None, 512)   0         \n",
            "_________________________________________________________________\n",
            "conv_pw_7 (Conv2D)           (None, None, None, 512)   262144    \n",
            "_________________________________________________________________\n",
            "conv_pw_7_bn (BatchNormaliza (None, None, None, 512)   2048      \n",
            "_________________________________________________________________\n",
            "conv_pw_7_relu (ReLU)        (None, None, None, 512)   0         \n",
            "_________________________________________________________________\n",
            "conv_dw_8 (DepthwiseConv2D)  (None, None, None, 512)   4608      \n",
            "_________________________________________________________________\n",
            "conv_dw_8_bn (BatchNormaliza (None, None, None, 512)   2048      \n",
            "_________________________________________________________________\n",
            "conv_dw_8_relu (ReLU)        (None, None, None, 512)   0         \n",
            "_________________________________________________________________\n",
            "conv_pw_8 (Conv2D)           (None, None, None, 512)   262144    \n",
            "_________________________________________________________________\n",
            "conv_pw_8_bn (BatchNormaliza (None, None, None, 512)   2048      \n",
            "_________________________________________________________________\n",
            "conv_pw_8_relu (ReLU)        (None, None, None, 512)   0         \n",
            "_________________________________________________________________\n",
            "conv_dw_9 (DepthwiseConv2D)  (None, None, None, 512)   4608      \n",
            "_________________________________________________________________\n",
            "conv_dw_9_bn (BatchNormaliza (None, None, None, 512)   2048      \n",
            "_________________________________________________________________\n",
            "conv_dw_9_relu (ReLU)        (None, None, None, 512)   0         \n",
            "_________________________________________________________________\n",
            "conv_pw_9 (Conv2D)           (None, None, None, 512)   262144    \n",
            "_________________________________________________________________\n",
            "conv_pw_9_bn (BatchNormaliza (None, None, None, 512)   2048      \n",
            "_________________________________________________________________\n",
            "conv_pw_9_relu (ReLU)        (None, None, None, 512)   0         \n",
            "_________________________________________________________________\n",
            "conv_dw_10 (DepthwiseConv2D) (None, None, None, 512)   4608      \n",
            "_________________________________________________________________\n",
            "conv_dw_10_bn (BatchNormaliz (None, None, None, 512)   2048      \n",
            "_________________________________________________________________\n",
            "conv_dw_10_relu (ReLU)       (None, None, None, 512)   0         \n",
            "_________________________________________________________________\n",
            "conv_pw_10 (Conv2D)          (None, None, None, 512)   262144    \n",
            "_________________________________________________________________\n",
            "conv_pw_10_bn (BatchNormaliz (None, None, None, 512)   2048      \n",
            "_________________________________________________________________\n",
            "conv_pw_10_relu (ReLU)       (None, None, None, 512)   0         \n",
            "_________________________________________________________________\n",
            "conv_dw_11 (DepthwiseConv2D) (None, None, None, 512)   4608      \n",
            "_________________________________________________________________\n",
            "conv_dw_11_bn (BatchNormaliz (None, None, None, 512)   2048      \n",
            "_________________________________________________________________\n",
            "conv_dw_11_relu (ReLU)       (None, None, None, 512)   0         \n",
            "_________________________________________________________________\n",
            "conv_pw_11 (Conv2D)          (None, None, None, 512)   262144    \n",
            "_________________________________________________________________\n",
            "conv_pw_11_bn (BatchNormaliz (None, None, None, 512)   2048      \n",
            "_________________________________________________________________\n",
            "conv_pw_11_relu (ReLU)       (None, None, None, 512)   0         \n",
            "_________________________________________________________________\n",
            "conv_pad_12 (ZeroPadding2D)  (None, None, None, 512)   0         \n",
            "_________________________________________________________________\n",
            "conv_dw_12 (DepthwiseConv2D) (None, None, None, 512)   4608      \n",
            "_________________________________________________________________\n",
            "conv_dw_12_bn (BatchNormaliz (None, None, None, 512)   2048      \n",
            "_________________________________________________________________\n",
            "conv_dw_12_relu (ReLU)       (None, None, None, 512)   0         \n",
            "_________________________________________________________________\n",
            "conv_pw_12 (Conv2D)          (None, None, None, 1024)  524288    \n",
            "_________________________________________________________________\n",
            "conv_pw_12_bn (BatchNormaliz (None, None, None, 1024)  4096      \n",
            "_________________________________________________________________\n",
            "conv_pw_12_relu (ReLU)       (None, None, None, 1024)  0         \n",
            "_________________________________________________________________\n",
            "conv_dw_13 (DepthwiseConv2D) (None, None, None, 1024)  9216      \n",
            "_________________________________________________________________\n",
            "conv_dw_13_bn (BatchNormaliz (None, None, None, 1024)  4096      \n",
            "_________________________________________________________________\n",
            "conv_dw_13_relu (ReLU)       (None, None, None, 1024)  0         \n",
            "_________________________________________________________________\n",
            "conv_pw_13 (Conv2D)          (None, None, None, 1024)  1048576   \n",
            "_________________________________________________________________\n",
            "conv_pw_13_bn (BatchNormaliz (None, None, None, 1024)  4096      \n",
            "_________________________________________________________________\n",
            "conv_pw_13_relu (ReLU)       (None, None, None, 1024)  0         \n",
            "_________________________________________________________________\n",
            "global_average_pooling2d (Gl (None, 1024)              0         \n",
            "_________________________________________________________________\n",
            "dropout (Dropout)            (None, 1024)              0         \n",
            "_________________________________________________________________\n",
            "batch_normalization (BatchNo (None, 1024)              4096      \n",
            "_________________________________________________________________\n",
            "dense (Dense)                (None, 512)               524800    \n",
            "_________________________________________________________________\n",
            "dense_1 (Dense)              (None, 3)                 1539      \n",
            "=================================================================\n",
            "Total params: 3,759,299\n",
            "Trainable params: 3,735,363\n",
            "Non-trainable params: 23,936\n",
            "_________________________________________________________________\n"
          ],
          "name": "stdout"
        }
      ]
    },
    {
      "cell_type": "code",
      "metadata": {
        "id": "zDrds39QxHts"
      },
      "source": [
        "es = EarlyStopping(monitor='val_loss',\n",
        "                   patience=5,\n",
        "                   mode='auto',\n",
        "                   restore_best_weights=True)\n",
        "checkpoint = ModelCheckpoint('best_weight_scene_mobileNet.h5',\n",
        "                             monitor='val_accuracy',\n",
        "                             verbose=1,\n",
        "                             save_best_only=True,\n",
        "                             mode='auto',)"
      ],
      "execution_count": 32,
      "outputs": []
    },
    {
      "cell_type": "code",
      "metadata": {
        "id": "jPKo6foBxLGU"
      },
      "source": [
        "from keras.models import Sequential\n",
        "from keras.layers.core import Flatten\n",
        "from keras.layers.core import Dense\n",
        "\n",
        "model = Sequential(\n",
        "    [\n",
        "        Flatten(input_shape=(64*64*3,)),\n",
        "        Dense(100, activation=\"relu\", name=\"layer1\"),\n",
        "        Dense(16, activation=\"relu\", name=\"layer2\"),\n",
        "        Dense(16, activation=\"relu\", name=\"layer3\"),\n",
        "        Dense(3, activation = \"softmax\", name=\"layer4\"),\n",
        "    ]\n",
        ")"
      ],
      "execution_count": 33,
      "outputs": []
    },
    {
      "cell_type": "code",
      "metadata": {
        "colab": {
          "base_uri": "https://localhost:8080/"
        },
        "id": "1YZUAtCwxNP2",
        "outputId": "61390fde-4605-4c66-e33b-c41a1586e9e2"
      },
      "source": [
        "model.summary()"
      ],
      "execution_count": 34,
      "outputs": [
        {
          "output_type": "stream",
          "text": [
            "Model: \"sequential\"\n",
            "_________________________________________________________________\n",
            "Layer (type)                 Output Shape              Param #   \n",
            "=================================================================\n",
            "flatten (Flatten)            (None, 12288)             0         \n",
            "_________________________________________________________________\n",
            "layer1 (Dense)               (None, 100)               1228900   \n",
            "_________________________________________________________________\n",
            "layer2 (Dense)               (None, 16)                1616      \n",
            "_________________________________________________________________\n",
            "layer3 (Dense)               (None, 16)                272       \n",
            "_________________________________________________________________\n",
            "layer4 (Dense)               (None, 3)                 51        \n",
            "=================================================================\n",
            "Total params: 1,230,839\n",
            "Trainable params: 1,230,839\n",
            "Non-trainable params: 0\n",
            "_________________________________________________________________\n"
          ],
          "name": "stdout"
        }
      ]
    },
    {
      "cell_type": "code",
      "metadata": {
        "colab": {
          "base_uri": "https://localhost:8080/"
        },
        "id": "JcLYr7mLxPRz",
        "outputId": "813040cb-b007-4fde-a5c8-2dc83f0825f2"
      },
      "source": [
        "# train the model using the Adam optimizer\n",
        "print(\"[INFO] training network...\")\n",
        "opt = Adam(lr=1e-3, decay=1e-3 / 50)\n",
        "model.compile(loss=\"categorical_crossentropy\", optimizer=opt,\n",
        "\tmetrics=[\"accuracy\"])\n",
        "H = model.fit(trainX, trainY, validation_data=(testX, testY), epochs=50, batch_size=32, callbacks=[es, checkpoint])"
      ],
      "execution_count": 35,
      "outputs": [
        {
          "output_type": "stream",
          "text": [
            "[INFO] training network...\n",
            "Epoch 1/50\n",
            "WARNING:tensorflow:Model was constructed with shape (None, 12288) for input Tensor(\"flatten_input:0\", shape=(None, 12288), dtype=float32), but it was called on an input with incompatible shape (None, 64, 64, 3).\n",
            "WARNING:tensorflow:Model was constructed with shape (None, 12288) for input Tensor(\"flatten_input:0\", shape=(None, 12288), dtype=float32), but it was called on an input with incompatible shape (None, 64, 64, 3).\n",
            "21/23 [==========================>...] - ETA: 0s - loss: 1.0252 - accuracy: 0.4881WARNING:tensorflow:Model was constructed with shape (None, 12288) for input Tensor(\"flatten_input:0\", shape=(None, 12288), dtype=float32), but it was called on an input with incompatible shape (None, 64, 64, 3).\n",
            "\n",
            "Epoch 00001: val_accuracy improved from -inf to 0.66667, saving model to best_weight_scene_mobileNet.h5\n",
            "23/23 [==============================] - 1s 24ms/step - loss: 1.0373 - accuracy: 0.4796 - val_loss: 0.8618 - val_accuracy: 0.6667\n",
            "Epoch 2/50\n",
            "21/23 [==========================>...] - ETA: 0s - loss: 0.8649 - accuracy: 0.5848\n",
            "Epoch 00002: val_accuracy did not improve from 0.66667\n",
            "23/23 [==============================] - 0s 12ms/step - loss: 0.8645 - accuracy: 0.5865 - val_loss: 1.0475 - val_accuracy: 0.4684\n",
            "Epoch 3/50\n",
            "21/23 [==========================>...] - ETA: 0s - loss: 0.8160 - accuracy: 0.6131\n",
            "Epoch 00003: val_accuracy improved from 0.66667 to 0.67932, saving model to best_weight_scene_mobileNet.h5\n",
            "23/23 [==============================] - 0s 16ms/step - loss: 0.8173 - accuracy: 0.6076 - val_loss: 0.7573 - val_accuracy: 0.6793\n",
            "Epoch 4/50\n",
            "21/23 [==========================>...] - ETA: 0s - loss: 0.7518 - accuracy: 0.6905\n",
            "Epoch 00004: val_accuracy did not improve from 0.67932\n",
            "23/23 [==============================] - 0s 12ms/step - loss: 0.7590 - accuracy: 0.6835 - val_loss: 0.7918 - val_accuracy: 0.6245\n",
            "Epoch 5/50\n",
            "21/23 [==========================>...] - ETA: 0s - loss: 0.7287 - accuracy: 0.6875\n",
            "Epoch 00005: val_accuracy did not improve from 0.67932\n",
            "23/23 [==============================] - 0s 12ms/step - loss: 0.7177 - accuracy: 0.6892 - val_loss: 0.7103 - val_accuracy: 0.6751\n",
            "Epoch 6/50\n",
            "21/23 [==========================>...] - ETA: 0s - loss: 0.6585 - accuracy: 0.7083\n",
            "Epoch 00006: val_accuracy improved from 0.67932 to 0.69620, saving model to best_weight_scene_mobileNet.h5\n",
            "23/23 [==============================] - 0s 15ms/step - loss: 0.6641 - accuracy: 0.6990 - val_loss: 0.7165 - val_accuracy: 0.6962\n",
            "Epoch 7/50\n",
            "19/23 [=======================>......] - ETA: 0s - loss: 0.6414 - accuracy: 0.6957\n",
            "Epoch 00007: val_accuracy did not improve from 0.69620\n",
            "23/23 [==============================] - 0s 14ms/step - loss: 0.6352 - accuracy: 0.7060 - val_loss: 0.7143 - val_accuracy: 0.6835\n",
            "Epoch 8/50\n",
            "21/23 [==========================>...] - ETA: 0s - loss: 0.6148 - accuracy: 0.7336\n",
            "Epoch 00008: val_accuracy improved from 0.69620 to 0.73418, saving model to best_weight_scene_mobileNet.h5\n",
            "23/23 [==============================] - 0s 16ms/step - loss: 0.6113 - accuracy: 0.7356 - val_loss: 0.7557 - val_accuracy: 0.7342\n",
            "Epoch 9/50\n",
            "21/23 [==========================>...] - ETA: 0s - loss: 0.5940 - accuracy: 0.7723\n",
            "Epoch 00009: val_accuracy did not improve from 0.73418\n",
            "23/23 [==============================] - 0s 12ms/step - loss: 0.5926 - accuracy: 0.7722 - val_loss: 0.6384 - val_accuracy: 0.7215\n",
            "Epoch 10/50\n",
            "21/23 [==========================>...] - ETA: 0s - loss: 0.5806 - accuracy: 0.7649\n",
            "Epoch 00010: val_accuracy improved from 0.73418 to 0.74262, saving model to best_weight_scene_mobileNet.h5\n",
            "23/23 [==============================] - 0s 17ms/step - loss: 0.5798 - accuracy: 0.7693 - val_loss: 0.6398 - val_accuracy: 0.7426\n",
            "Epoch 11/50\n",
            "21/23 [==========================>...] - ETA: 0s - loss: 0.6270 - accuracy: 0.7485\n",
            "Epoch 00011: val_accuracy improved from 0.74262 to 0.77215, saving model to best_weight_scene_mobileNet.h5\n",
            "23/23 [==============================] - 0s 21ms/step - loss: 0.6286 - accuracy: 0.7398 - val_loss: 0.6288 - val_accuracy: 0.7722\n",
            "Epoch 12/50\n",
            "20/23 [=========================>....] - ETA: 0s - loss: 0.5150 - accuracy: 0.8000\n",
            "Epoch 00012: val_accuracy improved from 0.77215 to 0.78481, saving model to best_weight_scene_mobileNet.h5\n",
            "23/23 [==============================] - 0s 16ms/step - loss: 0.5164 - accuracy: 0.8017 - val_loss: 0.5720 - val_accuracy: 0.7848\n",
            "Epoch 13/50\n",
            "21/23 [==========================>...] - ETA: 0s - loss: 0.5095 - accuracy: 0.8125\n",
            "Epoch 00013: val_accuracy did not improve from 0.78481\n",
            "23/23 [==============================] - 0s 12ms/step - loss: 0.5005 - accuracy: 0.8172 - val_loss: 0.6606 - val_accuracy: 0.7595\n",
            "Epoch 14/50\n",
            "21/23 [==========================>...] - ETA: 0s - loss: 0.5044 - accuracy: 0.8051\n",
            "Epoch 00014: val_accuracy did not improve from 0.78481\n",
            "23/23 [==============================] - 0s 12ms/step - loss: 0.4944 - accuracy: 0.8129 - val_loss: 0.5745 - val_accuracy: 0.7764\n",
            "Epoch 15/50\n",
            "19/23 [=======================>......] - ETA: 0s - loss: 0.4473 - accuracy: 0.8487\n",
            "Epoch 00015: val_accuracy did not improve from 0.78481\n",
            "23/23 [==============================] - 0s 13ms/step - loss: 0.4714 - accuracy: 0.8383 - val_loss: 0.6771 - val_accuracy: 0.7511\n",
            "Epoch 16/50\n",
            "21/23 [==========================>...] - ETA: 0s - loss: 0.4436 - accuracy: 0.8289\n",
            "Epoch 00016: val_accuracy improved from 0.78481 to 0.80169, saving model to best_weight_scene_mobileNet.h5\n",
            "23/23 [==============================] - 0s 16ms/step - loss: 0.4456 - accuracy: 0.8284 - val_loss: 0.5544 - val_accuracy: 0.8017\n",
            "Epoch 17/50\n",
            "21/23 [==========================>...] - ETA: 0s - loss: 0.4364 - accuracy: 0.8348\n",
            "Epoch 00017: val_accuracy did not improve from 0.80169\n",
            "23/23 [==============================] - 0s 12ms/step - loss: 0.4283 - accuracy: 0.8411 - val_loss: 0.6120 - val_accuracy: 0.7890\n",
            "Epoch 18/50\n",
            "21/23 [==========================>...] - ETA: 0s - loss: 0.4288 - accuracy: 0.8408\n",
            "Epoch 00018: val_accuracy improved from 0.80169 to 0.80591, saving model to best_weight_scene_mobileNet.h5\n",
            "23/23 [==============================] - 0s 16ms/step - loss: 0.4307 - accuracy: 0.8368 - val_loss: 0.5465 - val_accuracy: 0.8059\n",
            "Epoch 19/50\n",
            "20/23 [=========================>....] - ETA: 0s - loss: 0.3842 - accuracy: 0.8578\n",
            "Epoch 00019: val_accuracy did not improve from 0.80591\n",
            "23/23 [==============================] - 0s 13ms/step - loss: 0.4025 - accuracy: 0.8509 - val_loss: 0.5283 - val_accuracy: 0.8059\n",
            "Epoch 20/50\n",
            "21/23 [==========================>...] - ETA: 0s - loss: 0.3710 - accuracy: 0.8765\n",
            "Epoch 00020: val_accuracy did not improve from 0.80591\n",
            "23/23 [==============================] - 0s 12ms/step - loss: 0.3644 - accuracy: 0.8819 - val_loss: 0.5494 - val_accuracy: 0.7848\n",
            "Epoch 21/50\n",
            "21/23 [==========================>...] - ETA: 0s - loss: 0.3486 - accuracy: 0.8780\n",
            "Epoch 00021: val_accuracy did not improve from 0.80591\n",
            "23/23 [==============================] - 0s 12ms/step - loss: 0.3534 - accuracy: 0.8776 - val_loss: 0.6022 - val_accuracy: 0.8017\n",
            "Epoch 22/50\n",
            "21/23 [==========================>...] - ETA: 0s - loss: 0.4243 - accuracy: 0.8452\n",
            "Epoch 00022: val_accuracy improved from 0.80591 to 0.81435, saving model to best_weight_scene_mobileNet.h5\n",
            "23/23 [==============================] - 0s 16ms/step - loss: 0.4162 - accuracy: 0.8509 - val_loss: 0.6347 - val_accuracy: 0.8143\n",
            "Epoch 23/50\n",
            "21/23 [==========================>...] - ETA: 0s - loss: 0.3687 - accuracy: 0.8586\n",
            "Epoch 00023: val_accuracy did not improve from 0.81435\n",
            "23/23 [==============================] - 0s 12ms/step - loss: 0.3819 - accuracy: 0.8523 - val_loss: 0.5232 - val_accuracy: 0.7932\n",
            "Epoch 24/50\n",
            "20/23 [=========================>....] - ETA: 0s - loss: 0.3878 - accuracy: 0.8422\n",
            "Epoch 00024: val_accuracy did not improve from 0.81435\n",
            "23/23 [==============================] - 0s 12ms/step - loss: 0.3815 - accuracy: 0.8467 - val_loss: 0.5702 - val_accuracy: 0.7679\n",
            "Epoch 25/50\n",
            "19/23 [=======================>......] - ETA: 0s - loss: 0.3902 - accuracy: 0.8602\n",
            "Epoch 00025: val_accuracy did not improve from 0.81435\n",
            "23/23 [==============================] - 0s 13ms/step - loss: 0.3847 - accuracy: 0.8594 - val_loss: 0.5973 - val_accuracy: 0.7553\n",
            "Epoch 26/50\n",
            "20/23 [=========================>....] - ETA: 0s - loss: 0.3448 - accuracy: 0.8781\n",
            "Epoch 00026: val_accuracy did not improve from 0.81435\n",
            "23/23 [==============================] - 0s 13ms/step - loss: 0.3420 - accuracy: 0.8776 - val_loss: 0.4946 - val_accuracy: 0.8101\n",
            "Epoch 27/50\n",
            "21/23 [==========================>...] - ETA: 0s - loss: 0.2972 - accuracy: 0.9033\n",
            "Epoch 00027: val_accuracy did not improve from 0.81435\n",
            "23/23 [==============================] - 0s 12ms/step - loss: 0.2961 - accuracy: 0.9058 - val_loss: 0.5598 - val_accuracy: 0.7932\n",
            "Epoch 28/50\n",
            "21/23 [==========================>...] - ETA: 0s - loss: 0.2861 - accuracy: 0.9018\n",
            "Epoch 00028: val_accuracy improved from 0.81435 to 0.82700, saving model to best_weight_scene_mobileNet.h5\n",
            "23/23 [==============================] - 0s 16ms/step - loss: 0.2920 - accuracy: 0.8973 - val_loss: 0.5047 - val_accuracy: 0.8270\n",
            "Epoch 29/50\n",
            "21/23 [==========================>...] - ETA: 0s - loss: 0.2902 - accuracy: 0.9062\n",
            "Epoch 00029: val_accuracy did not improve from 0.82700\n",
            "23/23 [==============================] - 0s 12ms/step - loss: 0.2852 - accuracy: 0.9072 - val_loss: 0.5014 - val_accuracy: 0.8228\n",
            "Epoch 30/50\n",
            "21/23 [==========================>...] - ETA: 0s - loss: 0.2735 - accuracy: 0.9167\n",
            "Epoch 00030: val_accuracy did not improve from 0.82700\n",
            "23/23 [==============================] - 0s 12ms/step - loss: 0.2704 - accuracy: 0.9184 - val_loss: 0.6465 - val_accuracy: 0.7806\n",
            "Epoch 31/50\n",
            "20/23 [=========================>....] - ETA: 0s - loss: 0.2462 - accuracy: 0.9266\n",
            "Epoch 00031: val_accuracy did not improve from 0.82700\n",
            "23/23 [==============================] - 0s 13ms/step - loss: 0.2440 - accuracy: 0.9255 - val_loss: 0.6085 - val_accuracy: 0.8017\n"
          ],
          "name": "stdout"
        }
      ]
    },
    {
      "cell_type": "code",
      "metadata": {
        "colab": {
          "base_uri": "https://localhost:8080/",
          "height": 588
        },
        "id": "jDLUdHp8xRNn",
        "outputId": "190d1f4d-93a1-45d1-ec06-386ead5e0705"
      },
      "source": [
        "import matplotlib.pyplot as plt\n",
        "\n",
        "print(H.history.keys())\n",
        "# summarize history for accuracy\n",
        "plt.plot(H.history['accuracy'])\n",
        "plt.plot(H.history['val_accuracy'])\n",
        "plt.title('model accuracy')\n",
        "plt.ylabel('accuracy')\n",
        "plt.xlabel('epoch')\n",
        "plt.legend(['train', 'test'], loc='upper left')\n",
        "plt.show()\n",
        "# summarize history for loss\n",
        "plt.plot(H.history['loss'])\n",
        "plt.plot(H.history['val_loss'])\n",
        "plt.title('model loss')\n",
        "plt.ylabel('loss')\n",
        "plt.xlabel('epoch')\n",
        "plt.legend(['train', 'test'], loc='upper left')\n",
        "plt.show()"
      ],
      "execution_count": 36,
      "outputs": [
        {
          "output_type": "stream",
          "text": [
            "dict_keys(['loss', 'accuracy', 'val_loss', 'val_accuracy'])\n"
          ],
          "name": "stdout"
        },
        {
          "output_type": "display_data",
          "data": {
            "image/png": "[encoded data removed]",
            "text/plain": [
              "<Figure size 432x288 with 1 Axes>"
            ]
          },
          "metadata": {
            "tags": [],
            "needs_background": "light"
          }
        },
        {
          "output_type": "display_data",
          "data": {
            "image/png": "[encoded data removed]",
            "text/plain": [
              "<Figure size 432x288 with 1 Axes>"
            ]
          },
          "metadata": {
            "tags": [],
            "needs_background": "light"
          }
        }
      ]
    },
    {
      "cell_type": "code",
      "metadata": {
        "colab": {
          "base_uri": "https://localhost:8080/"
        },
        "id": "brlFJJeaxTK3",
        "outputId": "939d24ff-82b7-4edb-a86d-218c73159df4"
      },
      "source": [
        "# evaluate the network\n",
        "print(\"[INFO] evaluating network...\")\n",
        "predictions = model.predict(testX, batch_size=32)\n",
        "print(classification_report(testY.argmax(axis=1),\n",
        "\tpredictions.argmax(axis=1), target_names=lb.classes_))"
      ],
      "execution_count": 37,
      "outputs": [
        {
          "output_type": "stream",
          "text": [
            "[INFO] evaluating network...\n",
            "WARNING:tensorflow:Model was constructed with shape (None, 12288) for input Tensor(\"flatten_input:0\", shape=(None, 12288), dtype=float32), but it was called on an input with incompatible shape (None, 64, 64, 3).\n",
            "              precision    recall  f1-score   support\n",
            "\n",
            "       coast       0.83      0.79      0.81        90\n",
            "      forest       0.84      0.83      0.84        78\n",
            "     highway       0.76      0.81      0.78        69\n",
            "\n",
            "    accuracy                           0.81       237\n",
            "   macro avg       0.81      0.81      0.81       237\n",
            "weighted avg       0.81      0.81      0.81       237\n",
            "\n"
          ],
          "name": "stdout"
        }
      ]
    }
  ]
}